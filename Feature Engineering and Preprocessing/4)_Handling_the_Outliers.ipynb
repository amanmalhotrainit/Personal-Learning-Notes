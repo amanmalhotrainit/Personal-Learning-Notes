{
  "nbformat": 4,
  "nbformat_minor": 0,
  "metadata": {
    "colab": {
      "provenance": []
    },
    "kernelspec": {
      "name": "python3",
      "display_name": "Python 3"
    },
    "language_info": {
      "name": "python"
    }
  },
  "cells": [
    {
      "cell_type": "code",
      "execution_count": null,
      "metadata": {
        "id": "pBzJ4KrS-H9H"
      },
      "outputs": [],
      "source": [
        "#dealing with 5 number summary and boxplot"
      ]
    },
    {
      "cell_type": "code",
      "source": [
        "import numpy as np\n"
      ],
      "metadata": {
        "id": "u5HQauWZ-Tiy"
      },
      "execution_count": 2,
      "outputs": []
    },
    {
      "cell_type": "code",
      "source": [
        "lst_marks=[5,6,7,44,55,44,66,67,46,35,67,25,39,50,7,5,46,97,75,97,58,74,79,58,47,36,84,6,74,69,95,245,255,533,-19,-50,-31]"
      ],
      "metadata": {
        "id": "0_klsPN0-Tmz"
      },
      "execution_count": 14,
      "outputs": []
    },
    {
      "cell_type": "code",
      "source": [
        "Q1=np.quantile(lst_marks,0.25)\n",
        "Q2=np.quantile(lst_marks,0.50)\n",
        "Q3=np.quantile(lst_marks,0.75)\n",
        "minimum=np.quantile(lst_marks, 0)\n",
        "maximum=np.quantile(lst_marks, 1.0)"
      ],
      "metadata": {
        "id": "KzDw1I8s-Tqz"
      },
      "execution_count": 15,
      "outputs": []
    },
    {
      "cell_type": "code",
      "source": [
        "minimum, Q1, Q2, Q3, maximum"
      ],
      "metadata": {
        "colab": {
          "base_uri": "https://localhost:8080/"
        },
        "id": "l5rgN_VV-TuY",
        "outputId": "d092f64f-3197-4c48-aaa1-7b4b8818c43b"
      },
      "execution_count": 16,
      "outputs": [
        {
          "output_type": "execute_result",
          "data": {
            "text/plain": [
              "(np.int64(-50),\n",
              " np.float64(25.0),\n",
              " np.float64(50.0),\n",
              " np.float64(74.0),\n",
              " np.float64(533.0))"
            ]
          },
          "metadata": {},
          "execution_count": 16
        }
      ]
    },
    {
      "cell_type": "code",
      "source": [
        "IQR = Q3 - Q1\n",
        "IQR"
      ],
      "metadata": {
        "colab": {
          "base_uri": "https://localhost:8080/"
        },
        "id": "apN1Jenx-Txc",
        "outputId": "6357197b-3f0e-4af7-a435-81f57da9cee8"
      },
      "execution_count": 17,
      "outputs": [
        {
          "output_type": "execute_result",
          "data": {
            "text/plain": [
              "np.float64(49.0)"
            ]
          },
          "metadata": {},
          "execution_count": 17
        }
      ]
    },
    {
      "cell_type": "code",
      "source": [
        "lower_fence = Q1 - 1.5 * IQR\n",
        "upper_fence = Q3 + 1.5 * IQR\n",
        "lower_fence, upper_fence"
      ],
      "metadata": {
        "colab": {
          "base_uri": "https://localhost:8080/"
        },
        "id": "Awz7XKBD-T0l",
        "outputId": "b1abda0a-7d00-40c6-cee2-f05e7ecc7776"
      },
      "execution_count": 20,
      "outputs": [
        {
          "output_type": "execute_result",
          "data": {
            "text/plain": [
              "(np.float64(-48.5), np.float64(147.5))"
            ]
          },
          "metadata": {},
          "execution_count": 20
        }
      ]
    },
    {
      "cell_type": "code",
      "source": [
        "import seaborn as sns"
      ],
      "metadata": {
        "id": "KtU1AGVl-T3V"
      },
      "execution_count": 12,
      "outputs": []
    },
    {
      "cell_type": "code",
      "source": [
        "sns.boxplot(lst_marks)"
      ],
      "metadata": {
        "colab": {
          "base_uri": "https://localhost:8080/",
          "height": 428
        },
        "id": "Bsrc02Az_5VX",
        "outputId": "8ea87436-3031-4540-b407-64017adcfe8a"
      },
      "execution_count": 21,
      "outputs": [
        {
          "output_type": "execute_result",
          "data": {
            "text/plain": [
              "<Axes: >"
            ]
          },
          "metadata": {},
          "execution_count": 21
        },
        {
          "output_type": "display_data",
          "data": {
            "text/plain": [
              "<Figure size 640x480 with 1 Axes>"
            ],
            "image/png": "[encoded data removed]"
          },
          "metadata": {}
        }
      ]
    },
    {
      "cell_type": "code",
      "source": [],
      "metadata": {
        "id": "3iOgR4dt_5aK"
      },
      "execution_count": null,
      "outputs": []
    },
    {
      "cell_type": "code",
      "source": [],
      "metadata": {
        "id": "4p5vj2am_5eY"
      },
      "execution_count": null,
      "outputs": []
    },
    {
      "cell_type": "code",
      "source": [],
      "metadata": {
        "id": "RUBxIOp-_5iF"
      },
      "execution_count": null,
      "outputs": []
    }
  ]
}