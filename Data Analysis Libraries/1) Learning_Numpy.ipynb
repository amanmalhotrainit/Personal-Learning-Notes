{
  "nbformat": 4,
  "nbformat_minor": 0,
  "metadata": {
    "colab": {
      "provenance": []
    },
    "kernelspec": {
      "name": "python3",
      "display_name": "Python 3"
    },
    "language_info": {
      "name": "python"
    }
  },
  "cells": [
    {
      "cell_type": "code",
      "execution_count": 2,
      "metadata": {
        "id": "5QcOi7M8JmvC"
      },
      "outputs": [],
      "source": [
        "##importing numpy\n",
        "import numpy as np"
      ]
    },
    {
      "cell_type": "code",
      "source": [
        "##making one 1D array\n",
        "arr1= np.array([1,2,3,4,5])\n",
        "print(arr1)\n",
        "\n",
        "#type and shape\n",
        "print(type(arr1))\n",
        "print(arr1.shape)\n",
        "\n",
        "#single dimension array is []\n",
        "#2D would be [[]]"
      ],
      "metadata": {
        "colab": {
          "base_uri": "https://localhost:8080/"
        },
        "id": "QN1JZVjrLiRu",
        "outputId": "b9026ee1-7fea-4ad2-ba55-ee06bbcb5d7c"
      },
      "execution_count": 7,
      "outputs": [
        {
          "output_type": "stream",
          "name": "stdout",
          "text": [
            "[1 2 3 4 5]\n",
            "<class 'numpy.ndarray'>\n",
            "(5,)\n"
          ]
        }
      ]
    },
    {
      "cell_type": "code",
      "source": [
        "#reshaping\n",
        "arr2=arr1\n",
        "arr2.reshape(1,5) #1 row and 5 columns"
      ],
      "metadata": {
        "colab": {
          "base_uri": "https://localhost:8080/"
        },
        "id": "X5o6Z_4YM1hl",
        "outputId": "7b858a0b-82d7-4024-ad34-0977f45e6d65"
      },
      "execution_count": 8,
      "outputs": [
        {
          "output_type": "execute_result",
          "data": {
            "text/plain": [
              "array([[1, 2, 3, 4, 5]])"
            ]
          },
          "metadata": {},
          "execution_count": 8
        }
      ]
    },
    {
      "cell_type": "code",
      "source": [
        "#2D array\n",
        "arr2D = np.array([[1,2,3,4,5], [6,7,8,9,10]])\n",
        "print(arr2D)\n",
        "print(arr2D.shape) # 2rows and 5columns"
      ],
      "metadata": {
        "colab": {
          "base_uri": "https://localhost:8080/"
        },
        "id": "9DnE4A9GMzdV",
        "outputId": "1327816a-4d72-4598-c919-c5c3fff24825"
      },
      "execution_count": 10,
      "outputs": [
        {
          "output_type": "stream",
          "name": "stdout",
          "text": [
            "[[ 1  2  3  4  5]\n",
            " [ 6  7  8  9 10]]\n",
            "(2, 5)\n"
          ]
        }
      ]
    },
    {
      "cell_type": "code",
      "source": [
        "#creating random arrays\n",
        "np.arange(0,10,2)\n",
        "#arange(start,end,skip)\n",
        "\n",
        "np.arange(0,10,2).reshape(5,1)"
      ],
      "metadata": {
        "colab": {
          "base_uri": "https://localhost:8080/"
        },
        "id": "P-EWjIxJOL77",
        "outputId": "34000555-b23d-4af0-da92-05b1f3cb6e6b"
      },
      "execution_count": 15,
      "outputs": [
        {
          "output_type": "execute_result",
          "data": {
            "text/plain": [
              "array([[0],\n",
              "       [2],\n",
              "       [4],\n",
              "       [6],\n",
              "       [8]])"
            ]
          },
          "metadata": {},
          "execution_count": 15
        }
      ]
    },
    {
      "cell_type": "code",
      "source": [
        "#generating arrays\n",
        "eg1 = np.ones((3,4)) #generates arrays with all (1) in (rows, columns)\n",
        "print(eg1)\n",
        "\n",
        "eg2 = np.eye(3) #identity matrix\n",
        "print(eg2)"
      ],
      "metadata": {
        "colab": {
          "base_uri": "https://localhost:8080/"
        },
        "id": "BEVKvHWnPEGf",
        "outputId": "2f75a038-a03a-4012-ead8-971d81d7eeb0"
      },
      "execution_count": 19,
      "outputs": [
        {
          "output_type": "stream",
          "name": "stdout",
          "text": [
            "[[1. 1. 1. 1.]\n",
            " [1. 1. 1. 1.]\n",
            " [1. 1. 1. 1.]]\n",
            "[[1. 0. 0.]\n",
            " [0. 1. 0.]\n",
            " [0. 0. 1.]]\n"
          ]
        }
      ]
    },
    {
      "cell_type": "code",
      "source": [
        "#Attributes of numpy\n",
        "arr = np.array([[1,2,3,4,5], [6,7,8,9,10]])\n",
        "print(arr) #printing array\n",
        "print(arr.shape) #(rows,columns)\n",
        "print(arr.ndim) #prints dimensions of array\n",
        "print(arr.size) #total elements in array\n",
        "print(arr.dtype) #array datatype\n",
        "print(arr.itemsize) #print bytes used"
      ],
      "metadata": {
        "colab": {
          "base_uri": "https://localhost:8080/"
        },
        "id": "aPJ1bjiYQKqv",
        "outputId": "1a6991be-ad8a-437f-cc4d-e0044f2b3818"
      },
      "execution_count": 20,
      "outputs": [
        {
          "output_type": "stream",
          "name": "stdout",
          "text": [
            "[[ 1  2  3  4  5]\n",
            " [ 6  7  8  9 10]]\n",
            "(2, 5)\n",
            "2\n",
            "10\n",
            "int64\n",
            "8\n"
          ]
        }
      ]
    },
    {
      "cell_type": "code",
      "source": [
        "#Numpy Vectorized operations (element wise)\n",
        "arr1=np.array([1,2,3,4,5])\n",
        "arr2=np.array([10,20,30,40,50])\n",
        "\n",
        "print(arr1 + arr2) #element wise addition\n",
        "print(arr1 - arr2) #element wise subtraction\n",
        "print(arr1 * arr2) #element wise multiplication\n",
        "print(arr1 / arr2) #element wise division\n"
      ],
      "metadata": {
        "colab": {
          "base_uri": "https://localhost:8080/"
        },
        "id": "Xg2yRYKpRFzn",
        "outputId": "55c5ca18-06d5-4556-9ba7-b102ef3af3a6"
      },
      "execution_count": 23,
      "outputs": [
        {
          "output_type": "stream",
          "name": "stdout",
          "text": [
            "[11 22 33 44 55]\n",
            "[ -9 -18 -27 -36 -45]\n",
            "[ 10  40  90 160 250]\n",
            "[0.1 0.1 0.1 0.1 0.1]\n"
          ]
        }
      ]
    },
    {
      "cell_type": "code",
      "source": [
        "#Universal function (applies to entire array)\n",
        "arr=np.array([1,2,3,4,5,6])\n",
        "\n",
        "print(np.sqrt(arr)) #square root\n",
        "print(np.exp(arr)) #exponential function\n",
        "print(np.sin(arr)) #sine function\n",
        "print(np.log) #natural log"
      ],
      "metadata": {
        "colab": {
          "base_uri": "https://localhost:8080/"
        },
        "id": "GQL-MdpnRyo1",
        "outputId": "9da2a21a-b1a8-4280-8c1c-4beab0c45fb8"
      },
      "execution_count": 25,
      "outputs": [
        {
          "output_type": "stream",
          "name": "stdout",
          "text": [
            "[1.         1.41421356 1.73205081 2.         2.23606798 2.44948974]\n",
            "[  2.71828183   7.3890561   20.08553692  54.59815003 148.4131591\n",
            " 403.42879349]\n",
            "[ 0.84147098  0.90929743  0.14112001 -0.7568025  -0.95892427 -0.2794155 ]\n",
            "<ufunc 'log'>\n"
          ]
        }
      ]
    },
    {
      "cell_type": "code",
      "source": [
        "#slicing and indexing\n",
        "arr=np.array([[1,2,3,4,5], [10,20,30,40,50], [100,200,300,400,500]])\n",
        "\n",
        "element =arr[1][3] #retreiving 40 out of the 2D array\n",
        "print(element)\n",
        "\n",
        "mini_matrix = arr[1:,2:4]  #retrieving a matrix from the bigger matrix itself\n",
        "#arr[row begining:row ending (blank for last ), [coloumn begining: column ending]] eg [1:3, 2:]\n",
        "print(mini_matrix)"
      ],
      "metadata": {
        "colab": {
          "base_uri": "https://localhost:8080/"
        },
        "id": "RLKdB2GaSioH",
        "outputId": "751ed0dd-45c9-4c6f-fdb7-f3799272c16e"
      },
      "execution_count": 42,
      "outputs": [
        {
          "output_type": "stream",
          "name": "stdout",
          "text": [
            "40\n",
            "[[ 30  40]\n",
            " [300 400]]\n"
          ]
        }
      ]
    },
    {
      "cell_type": "code",
      "source": [
        "#modifying the elements\n",
        "arr[0][0] = 111111\n",
        "print(arr)"
      ],
      "metadata": {
        "colab": {
          "base_uri": "https://localhost:8080/"
        },
        "id": "fW9ECI0CXJl0",
        "outputId": "af96f594-167f-4dd4-c536-18a197164edf"
      },
      "execution_count": 49,
      "outputs": [
        {
          "output_type": "stream",
          "name": "stdout",
          "text": [
            "[[111111      2      3      4      5]\n",
            " [    10     20     30     40     50]\n",
            " [   100    200    300    400    500]]\n"
          ]
        }
      ]
    },
    {
      "cell_type": "code",
      "source": [
        "#Normalisation - CHanging data to have mean of 0 and standard deviation of 1\n",
        "mean = np.mean(arr)\n",
        "std = np.std(arr)\n",
        "normalized_data = (arr - mean) / std\n",
        "print(normalized_data)"
      ],
      "metadata": {
        "colab": {
          "base_uri": "https://localhost:8080/"
        },
        "id": "XaMWJN6yXsGf",
        "outputId": "0368a63c-5f7a-4bc8-f8af-ac20aaff1719"
      },
      "execution_count": 53,
      "outputs": [
        {
          "output_type": "stream",
          "name": "stdout",
          "text": [
            "[[ 3.74159917 -0.27147777 -0.27144166 -0.27140554 -0.27136942]\n",
            " [-0.27118883 -0.27082764 -0.27046646 -0.27010528 -0.26974409]\n",
            " [-0.26793817 -0.26432634 -0.2607145  -0.25710266 -0.25349082]]\n"
          ]
        }
      ]
    },
    {
      "cell_type": "code",
      "source": [
        "#Stats method\n",
        "mean = np.mean(arr)\n",
        "median = np.median(arr)\n",
        "std = np.std(arr)\n",
        "var = np.var(arr)\n",
        "print(f\"Mean = {mean}\\nMedian = {median}\\nStd Dev = {std}\\nVariance = {var}\")"
      ],
      "metadata": {
        "colab": {
          "base_uri": "https://localhost:8080/"
        },
        "id": "PKfYrqw9ZHod",
        "outputId": "f271213c-b265-412c-c433-ce4ed94e351d"
      },
      "execution_count": 56,
      "outputs": [
        {
          "output_type": "stream",
          "name": "stdout",
          "text": [
            "Mean = 7518.333333333333\n",
            "Median = 40.0\n",
            "Std Dev = 27686.735492329582\n",
            "Variance = 766555322.2222226\n"
          ]
        }
      ]
    },
    {
      "cell_type": "code",
      "source": [
        "#logical operation\n",
        "data = np.arange(0,10)\n",
        "print(data)\n",
        "print((data>=5) & (data<=8)) #here logical symbol of & will work and not \"and\""
      ],
      "metadata": {
        "colab": {
          "base_uri": "https://localhost:8080/"
        },
        "id": "VrPhyId9aTBB",
        "outputId": "ec63580c-7a39-4689-f534-9c99120ee073"
      },
      "execution_count": 64,
      "outputs": [
        {
          "output_type": "stream",
          "name": "stdout",
          "text": [
            "[0 1 2 3 4 5 6 7 8 9]\n",
            "[False False False False False  True  True  True  True False]\n"
          ]
        }
      ]
    },
    {
      "cell_type": "markdown",
      "source": [],
      "metadata": {
        "id": "X6u8NXF9M0rT"
      }
    }
  ]
}